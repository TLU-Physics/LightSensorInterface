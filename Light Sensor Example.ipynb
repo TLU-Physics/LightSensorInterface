{
 "cells": [
  {
   "cell_type": "code",
   "execution_count": 1,
   "metadata": {},
   "outputs": [
    {
     "name": "stdout",
     "output_type": "stream",
     "text": [
      "Populating the interactive namespace from numpy and matplotlib\n"
     ]
    }
   ],
   "source": [
    "%pylab inline\n",
    "\n",
    "import serial\n",
    "import serial.tools.list_ports\n",
    "\n",
    "import time\n",
    "import numpy as np\n",
    "import matplotlib.pyplot as plt"
   ]
  },
  {
   "cell_type": "code",
   "execution_count": 2,
   "metadata": {
    "scrolled": true
   },
   "outputs": [
    {
     "name": "stdout",
     "output_type": "stream",
     "text": [
      "COM1\n",
      "COM3\n"
     ]
    }
   ],
   "source": [
    "for port in serial.tools.list_ports.comports():\n",
    "    print(port.device)"
   ]
  },
  {
   "cell_type": "code",
   "execution_count": 3,
   "metadata": {},
   "outputs": [],
   "source": [
    "ser = serial.Serial('COM3', 9600)\n",
    "ser.timeout = 2"
   ]
  },
  {
   "cell_type": "code",
   "execution_count": 4,
   "metadata": {},
   "outputs": [
    {
     "data": {
      "text/plain": [
       "True"
      ]
     },
     "execution_count": 4,
     "metadata": {},
     "output_type": "execute_result"
    }
   ],
   "source": [
    "ser.isOpen()"
   ]
  },
  {
   "cell_type": "code",
   "execution_count": 25,
   "metadata": {},
   "outputs": [],
   "source": [
    "ser.close()"
   ]
  },
  {
   "cell_type": "code",
   "execution_count": 17,
   "metadata": {},
   "outputs": [],
   "source": [
    "def sensorRead():\n",
    "    \"\"\"Function that takes readings from the light sensor.\n",
    "    \n",
    "    \"\"\"\n",
    "    lightstr = ser.readline().decode()\n",
    "    fullstr, irstr = lightstr.strip().split(sep = ' ')\n",
    "    full = int(fullstr)\n",
    "    ir = int(irstr)\n",
    "    visible = full - ir\n",
    "\n",
    "    return full, ir, visible"
   ]
  },
  {
   "cell_type": "code",
   "execution_count": 18,
   "metadata": {},
   "outputs": [],
   "source": [
    "def setBackground(integration_time):\n",
    "    \"\"\"Function that takes readings of the background light intesity for a certain amount of time.\n",
    "    \n",
    "        integration_time (str): A user input for how long a trial should run.\n",
    "        \n",
    "        returns:\n",
    "        backfull(float): the background intensity for full spectrum.\n",
    "        backir(float): the background intensity for ir.\n",
    "        backvis(float): the background intensity for visible.\n",
    "    \"\"\"\n",
    "    ser.flushInput()\n",
    "    \n",
    "    bfullvals = []\n",
    "    birvals = []\n",
    "    bvisvals = []\n",
    "\n",
    "    start = time.time()\n",
    "    currenttime = time.time()\n",
    "    end = (start + integration_time)\n",
    "    print('Calculating background values...')\n",
    "\n",
    "    while currenttime < end: \n",
    "        bfull, bir, bvis = sensorRead()\n",
    "    \n",
    "        bfullvals.append(bfull)\n",
    "        birvals.append(bir)\n",
    "        bvisvals.append(bvis)\n",
    "    \n",
    "        currenttime = time.time()\n",
    "    \n",
    "    backfull = sum(bfullvals) / len(bfullvals)\n",
    "    backir = sum(birvals) / len(birvals)\n",
    "    backvis = sum(bvisvals) / len(bvisvals)\n",
    "    print(backfull)\n",
    "        \n",
    "    #print('Background values collected successfully.')\n",
    "    \n",
    "    return backfull, backir, backvis"
   ]
  },
  {
   "cell_type": "code",
   "execution_count": 19,
   "metadata": {},
   "outputs": [],
   "source": [
    "def collect(integration_time):\n",
    "    \"\"\"Funtion to take intensity readings over a user input time.\n",
    "        \n",
    "        integration_time (str): A user input for how long a trial should run.\n",
    "        \n",
    "        return:\n",
    "        fullvals (list): a list of full spectrum light intensity values.\n",
    "        irvals (list): a list of ir light intensity values.\n",
    "        visvals (list): a list of visible light intensity values.\n",
    "        timevals (list): a list of the time values.\n",
    "    \"\"\"\n",
    "    ser.flushInput()\n",
    "    \n",
    "    start = time.time()\n",
    "    currenttime = time.time()\n",
    "    end = (start + integration_time)\n",
    "    \n",
    "    print(\"Intensity values being collected...\")\n",
    "\n",
    "    while currenttime < end: \n",
    "        full, ir, visible = sensorRead()\n",
    "    \n",
    "        fullvals.append(full)\n",
    "        irvals.append(ir)\n",
    "        visvals.append(visible)\n",
    "        \n",
    "        t = end - currenttime\n",
    "        timevals.append(t)\n",
    "        currenttime = time.time()\n",
    "        \n",
    "    #print(\"Intensity values collected successfully.\")\n",
    "        \n",
    "    return fullvals, irvals, visvals, timevals"
   ]
  },
  {
   "cell_type": "code",
   "execution_count": 20,
   "metadata": {},
   "outputs": [],
   "source": [
    "def dataValues(integration_time, bfull, bir, bvis):\n",
    "    \"\"\"Function that takes collected data and removes the background intensity values.\n",
    "    \n",
    "        integration_time (str): A user input for how long a trial should run.\n",
    "        \n",
    "        return:\n",
    "        fullvals (list): a list of full spectrum light intensity values.\n",
    "        irvals (list): a list of ir light intensity values.\n",
    "        visvals (list): a list of visible light intensity values.\n",
    "        timevals (list): a list of the time values.\n",
    "    \"\"\"\n",
    "    \n",
    "    background = input('Collect background values? ')\n",
    "    if background == 'Yes':\n",
    "        bfull, bir, bvis = setBackground(integration_time)\n",
    "    \n",
    "    coll = input('Collect intensity values? ')\n",
    "    if coll == 'Yes':\n",
    "        fullvals, irvals, visvals, timevals = collect(integration_time)\n",
    "        \n",
    "    for i in range(len(fullvals)):\n",
    "        fullvals[i] -= bfull\n",
    "    for i in range(len(irvals)):\n",
    "        irvals[i] -= bir\n",
    "    for i in range(len(visvals)):\n",
    "        visvals[i] -= bvis\n",
    "            \n",
    "    return fullvals, irvals, visvals, timevals"
   ]
  },
  {
   "cell_type": "code",
   "execution_count": 21,
   "metadata": {},
   "outputs": [],
   "source": [
    "def average(fullvals, irvals, visvals):\n",
    "    \"\"\"Function that takes lists of spectra values and returns the average.\n",
    "        \n",
    "        fullvals (list): a list of full spectrum light intensity values.\n",
    "        irvals (list): a list of ir light intensity values.\n",
    "        visvals (list): a list of visible light intensity values.\n",
    "        \n",
    "        returns:\n",
    "        fullavg (float): the average values of full spectrum intensity values.\n",
    "        iravg (float): the average vaules of ir intensity values.\n",
    "        visavg (float): the average values of visible intensity values.\n",
    "        \"\"\"\n",
    "    \n",
    "    fullavg = sum(fullvals) / len(fullvals)\n",
    "    iravg = sum(irvals) / len(irvals)\n",
    "    visavg = sum(visvals) / len(visvals)\n",
    "    \n",
    "    return fullavg, iravg, visavg"
   ]
  },
  {
   "cell_type": "code",
   "execution_count": 22,
   "metadata": {},
   "outputs": [],
   "source": [
    "def standardDeviation(fullvals, irvals, visvals):\n",
    "    \"\"\"Function which give the standard deviation of values.\n",
    "    \n",
    "        fullvals (list): a list of full spectrum light intensity values.\n",
    "        irvals (list): a list of ir light intensity values.\n",
    "        visvals (list): a list of visible light intensity values.\n",
    "        \n",
    "        returns:\n",
    "        stdfull (float): the standard deviation of the full values list.\n",
    "        stdir (float): the standard deviation of the ir values list.\n",
    "        stdvis (float): the standard deviation of the visible values list.\n",
    "    \"\"\"\n",
    "    stdfull = numpy.std(fullvals, ddof=1)\n",
    "    stdir = numpy.std(irvals, ddof=1)\n",
    "    stdvis = numpy.std(visvals, ddof=1)\n",
    "    \n",
    "    return stdfull, stdir, stdvis"
   ]
  },
  {
   "cell_type": "code",
   "execution_count": 23,
   "metadata": {},
   "outputs": [],
   "source": [
    "def error(fullvals, irvals, visvals):\n",
    "    \"\"\"Function which gives the error of values.\n",
    "    \n",
    "    \"\"\"\n",
    "    stdfull, stdir, stdvis = standardDeviation(fullvals, irvals, visvals)\n",
    "    errfull = stdfull / np.sqrt(len(fullvals))\n",
    "    errir = stdir / np.sqrt(len(irvals))\n",
    "    errvis = stdvis / np.sqrt(len(visvals))\n",
    "    \n",
    "    return errfull, errir, errvis"
   ]
  },
  {
   "cell_type": "code",
   "execution_count": 24,
   "metadata": {},
   "outputs": [],
   "source": [
    "def timeplot(fullvals, irvals, visvals, timevals):\n",
    "    \"\"\"Function which plots spectrum values overtime.\n",
    "    \n",
    "        fullvals (list): a list of full spectrum light intensity values.\n",
    "        irvals (list): a list of ir light intensity values.\n",
    "        visvals (list): a list of visible light intensity values.\n",
    "        timevals (list): a list of the time values.\n",
    "        \n",
    "        return (plot): a plot of all the spectrum values overtime.\n",
    "    \"\"\"\n",
    "\n",
    "    plt.plot(timevals, fullvals, timevals, irvals, timevals, visvals)\n",
    "    \n",
    "    plt.xlabel('Time')\n",
    "    plt.ylabel('Intensity')\n",
    "    plt.title('Spectrum Intensity Values')\n",
    "\n",
    "    plt.legend(['Full Spectrum', 'IR', 'Visible'], loc='upper left')\n",
    "    \n",
    "    plt.show()"
   ]
  },
  {
   "cell_type": "code",
   "execution_count": 25,
   "metadata": {},
   "outputs": [],
   "source": [
    "def csvform(positions, favg, iavg, vavg, ferr, ierr, verr):\n",
    "    filename = input('Name of File? ') # needs to be csv, ie. filename.csv\n",
    "    header_row_text = 'Positions, Full, FullError, IR, IRError, Visible, VisibleError'\n",
    "    comment_text = ''\n",
    "    \n",
    "    data = np.array([positions, favg, ferr, iavg, ierr, vavg, verr]).T\n",
    "    np.savetxt(filename, data, delimiter = ',', header = header_row_text, comments = comment_text)"
   ]
  },
  {
   "cell_type": "code",
   "execution_count": 40,
   "metadata": {},
   "outputs": [],
   "source": [
    "def mainFunction():\n",
    "    cont = 'Yes'\n",
    "    integrate = input(\"How many seconds should the trials run? \") # Input number of seconds each trial should run\n",
    "    integration_time = float(integrate)\n",
    "    \n",
    "    while cont == 'Yes':\n",
    "        positionstr = input('Position? ') # For Atomic Spectrum Lab\n",
    "        position = float(positionstr)\n",
    "        positions.append(position)\n",
    "        \n",
    "        fullvals, irvals, visvals, timevals = dataValues(integration_time, bfull, bir, bvis)\n",
    "        fullavg, iravg, visavg = average(fullvals, irvals, visvals)\n",
    "        print(fullavg)\n",
    "        errfull, errir, errvis = error(fullvals, irvals, visvals)\n",
    "        \n",
    "        \n",
    "        favg.append(fullavg)\n",
    "        iavg.append(iravg)\n",
    "        vavg.append(visavg)\n",
    "        \n",
    "        ferr.append(errfull)\n",
    "        ierr.append(errir)\n",
    "        verr.append(errvis)\n",
    "        #print('Averages and error calculated.')\n",
    "        \n",
    "        fullvals.clear()\n",
    "        irvals.clear()\n",
    "        visvals.clear()\n",
    "        timevals.clear()\n",
    "        \n",
    "        cont = input('Continue collecting averages? ')\n",
    "        print()\n",
    "        if cont == 'No':\n",
    "            break\n",
    "        \n",
    "    \n",
    "    #figure = timeplot(fullvals, irvals, visvals, timevals)\n",
    "    csvfile = csvform(positions, favg, iavg, vavg, ferr, ierr, verr)"
   ]
  },
  {
   "cell_type": "code",
   "execution_count": 49,
   "metadata": {},
   "outputs": [],
   "source": [
    "bfull = 0\n",
    "bir = 0\n",
    "bvis = 0"
   ]
  },
  {
   "cell_type": "code",
   "execution_count": 50,
   "metadata": {},
   "outputs": [],
   "source": [
    "fullvals = []\n",
    "irvals = []\n",
    "visvals = []\n",
    "timevals = []"
   ]
  },
  {
   "cell_type": "code",
   "execution_count": 51,
   "metadata": {},
   "outputs": [],
   "source": [
    "positions = [] # For Atomic Spectra Lab\n",
    "\n",
    "favg = []\n",
    "iavg = []\n",
    "vavg = []\n",
    "    \n",
    "ferr = []\n",
    "ierr = []\n",
    "verr = []"
   ]
  },
  {
   "cell_type": "code",
   "execution_count": 19,
   "metadata": {
    "scrolled": true
   },
   "outputs": [
    {
     "name": "stdout",
     "output_type": "stream",
     "text": [
      "Integrate?30\n"
     ]
    }
   ],
   "source": [
    "integrate = input('Integrate?')\n",
    "integration_time = float(integrate)"
   ]
  },
  {
   "cell_type": "code",
   "execution_count": 23,
   "metadata": {
    "scrolled": true
   },
   "outputs": [
    {
     "name": "stdout",
     "output_type": "stream",
     "text": [
      "Collect background values? Yes\n",
      "Calculating background values...\n",
      "8327.83076923077\n",
      "Collect intensity values? Yes\n",
      "Intensity values being collected...\n"
     ]
    }
   ],
   "source": [
    "full, ir, vis, timevals = dataValues(integration_time, bfull, bir, bvis)"
   ]
  },
  {
   "cell_type": "code",
   "execution_count": 24,
   "metadata": {},
   "outputs": [],
   "source": [
    "fullavg, iravg, visavg = average(fullvals, irvals, visvals)"
   ]
  },
  {
   "cell_type": "code",
   "execution_count": 25,
   "metadata": {},
   "outputs": [
    {
     "name": "stdout",
     "output_type": "stream",
     "text": [
      "-12.723076923077567\n"
     ]
    }
   ],
   "source": [
    "print(fullavg)"
   ]
  },
  {
   "cell_type": "code",
   "execution_count": 74,
   "metadata": {
    "scrolled": true
   },
   "outputs": [
    {
     "data": {
      "image/png": "[encoded data removed]",
      "text/plain": [
       "<matplotlib.figure.Figure at 0x1974ed440b8>"
      ]
     },
     "metadata": {},
     "output_type": "display_data"
    }
   ],
   "source": [
    "figure = timeplot(full, ir, vis, timevals)"
   ]
  },
  {
   "cell_type": "code",
   "execution_count": 48,
   "metadata": {},
   "outputs": [],
   "source": [
    "ser.flushInput()"
   ]
  },
  {
   "cell_type": "code",
   "execution_count": 52,
   "metadata": {
    "scrolled": false
   },
   "outputs": [
    {
     "name": "stdout",
     "output_type": "stream",
     "text": [
      "How many seconds should the trials run? 30\n",
      "Position? 0\n",
      "Collect background values? Yes\n",
      "Calculating background values...\n",
      "3067.5384615384614\n",
      "Collect intensity values? Yes\n",
      "Intensity values being collected...\n",
      "-1.599999999999895\n",
      "Continue collecting averages? Yes\n",
      "\n",
      "Position? 0\n",
      "Collect background values? Yes\n",
      "Calculating background values...\n",
      "3065.9692307692308\n",
      "Collect intensity values? Yes\n",
      "Intensity values being collected...\n",
      "-0.6461538461538392\n",
      "Continue collecting averages? Yes\n",
      "\n",
      "Position? 0\n",
      "Collect background values? Yes\n",
      "Calculating background values...\n",
      "3064.9848484848485\n",
      "Collect intensity values? Yes\n",
      "Intensity values being collected...\n",
      "-1.1079254079254217\n",
      "Continue collecting averages? No\n",
      "\n",
      "Name of File? finishedtest\n"
     ]
    }
   ],
   "source": [
    "# Atomic Spectra Lab\n",
    "mainFunction()"
   ]
  },
  {
   "cell_type": "code",
   "execution_count": null,
   "metadata": {},
   "outputs": [],
   "source": []
  },
  {
   "cell_type": "code",
   "execution_count": null,
   "metadata": {},
   "outputs": [],
   "source": []
  }
 ],
 "metadata": {
  "kernelspec": {
   "display_name": "Python 3",
   "language": "python",
   "name": "python3"
  },
  "language_info": {
   "codemirror_mode": {
    "name": "ipython",
    "version": 3
   },
   "file_extension": ".py",
   "mimetype": "text/x-python",
   "name": "python",
   "nbconvert_exporter": "python",
   "pygments_lexer": "ipython3",
   "version": "3.6.4"
  }
 },
 "nbformat": 4,
 "nbformat_minor": 2
}
