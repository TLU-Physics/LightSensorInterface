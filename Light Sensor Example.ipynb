{
 "cells": [
  {
   "cell_type": "markdown",
   "metadata": {},
   "source": [
    "# Basic Use of the LightSensor Module"
   ]
  },
  {
   "cell_type": "markdown",
   "metadata": {},
   "source": [
    "Import the LightSensor module which should be in the same location as the jupyter file you are using. This is used in all three parts of this example."
   ]
  },
  {
   "cell_type": "code",
   "execution_count": 1,
   "metadata": {},
   "outputs": [],
   "source": [
    "from LightSensor import *"
   ]
  },
  {
   "cell_type": "markdown",
   "metadata": {},
   "source": [
    "Below is a basic look at the functions and what they do of the LightSensor module"
   ]
  },
  {
   "cell_type": "code",
   "execution_count": 2,
   "metadata": {},
   "outputs": [],
   "source": [
    "sensor = LightSensor() # Creates an sensor object"
   ]
  },
  {
   "cell_type": "code",
   "execution_count": 3,
   "metadata": {},
   "outputs": [
    {
     "name": "stdout",
     "output_type": "stream",
     "text": [
      "COM1\n",
      "COM3\n"
     ]
    }
   ],
   "source": [
    "sensor.getPortName()  # Lists out avaliable ports on your computer"
   ]
  },
  {
   "cell_type": "code",
   "execution_count": 4,
   "metadata": {},
   "outputs": [],
   "source": [
    "sensor.declarePort('COM3') # Declares what port the sensor is connected to. This should be the same port the Arduino connects to."
   ]
  },
  {
   "cell_type": "code",
   "execution_count": null,
   "metadata": {},
   "outputs": [],
   "source": [
    "sensor.closePort()  # Closes the current port. Only one sensor can use a port at a time."
   ]
  },
  {
   "cell_type": "code",
   "execution_count": 5,
   "metadata": {
    "scrolled": false
   },
   "outputs": [
    {
     "name": "stdout",
     "output_type": "stream",
     "text": [
      "Intensity values being collected...\n",
      "Intensity values collected successfully.\n"
     ]
    }
   ],
   "source": [
    "sensor.setBackground(30)  # reads and records the background light values. Input how long trials run in seconds as parameter"
   ]
  },
  {
   "cell_type": "code",
   "execution_count": 6,
   "metadata": {},
   "outputs": [],
   "source": [
    "# gets the background variables, which can be stored into variables if needed.\n",
    "full, ir, vis, ferr, ierr, verr = sensor.getBackground()"
   ]
  },
  {
   "cell_type": "code",
   "execution_count": 7,
   "metadata": {},
   "outputs": [
    {
     "name": "stdout",
     "output_type": "stream",
     "text": [
      "Background\n",
      "Full: 7630.707692 ± 0.358766\n",
      "IR: 1512.569231 ± 0.109565\n",
      "Visible: 6118.138462 ± 0.322160\n"
     ]
    }
   ],
   "source": [
    "sensor.printBackground()  # prints the background values and the respective error"
   ]
  },
  {
   "cell_type": "code",
   "execution_count": 8,
   "metadata": {},
   "outputs": [],
   "source": [
    "sensor.resetBackground()  # resets the background values to zero"
   ]
  },
  {
   "cell_type": "code",
   "execution_count": 9,
   "metadata": {
    "scrolled": true
   },
   "outputs": [
    {
     "name": "stdout",
     "output_type": "stream",
     "text": [
      "Intensity values being collected...\n",
      "Intensity values collected successfully.\n",
      "Average\n",
      "Full: 7633.769231 ± 0.363456\n",
      "IR: 1512.553846 ± 0.124094\n",
      "Visible: 6121.215385 ± 0.309693\n"
     ]
    }
   ],
   "source": [
    "# collects intensity, removes any background, caluclates and prints the average and error. Parameter is trial time in seconds.\n",
    "sensor.dataValues(30)   "
   ]
  },
  {
   "cell_type": "code",
   "execution_count": 10,
   "metadata": {
    "scrolled": true
   },
   "outputs": [],
   "source": [
    "# gets the average intensity values and error. Can be stored in variables if needed \n",
    "fullavg, iravg, visavg, ferr, ierr, verr = sensor.getAverage()"
   ]
  },
  {
   "cell_type": "code",
   "execution_count": 11,
   "metadata": {
    "scrolled": true
   },
   "outputs": [
    {
     "name": "stdout",
     "output_type": "stream",
     "text": [
      "Average\n",
      "Full: 7633.769231 ± 0.363456\n",
      "IR: 1512.553846 ± 0.124094\n",
      "Visible: 6121.215385 ± 0.309693\n"
     ]
    }
   ],
   "source": [
    "sensor.printAverage()  # Prints out the average and error intensity values"
   ]
  },
  {
   "cell_type": "code",
   "execution_count": 12,
   "metadata": {
    "scrolled": true
   },
   "outputs": [],
   "source": [
    "stdfull, stdir, stdvis = sensor.standardDeviation() # gets just the standard deviation without error"
   ]
  },
  {
   "cell_type": "code",
   "execution_count": 13,
   "metadata": {},
   "outputs": [],
   "source": [
    "fullavg, iravg, visavg = sensor.average() # gets just the average without error"
   ]
  },
  {
   "cell_type": "code",
   "execution_count": 14,
   "metadata": {},
   "outputs": [],
   "source": [
    "fullerr, irerr, viserr = sensor.error() # gets just the error without average"
   ]
  },
  {
   "cell_type": "code",
   "execution_count": 15,
   "metadata": {},
   "outputs": [],
   "source": [
    "full, ir, vis, time = sensor.getRecent() # gets the most recent values contained in the lists, including the time values"
   ]
  },
  {
   "cell_type": "markdown",
   "metadata": {},
   "source": [
    "# Graph Intensities Over Time"
   ]
  },
  {
   "cell_type": "markdown",
   "metadata": {},
   "source": [
    "Below is an example of calculating intensity values and ploting them over the time in which they are collected in python. First import the LightSensor module and the needed plotting modules."
   ]
  },
  {
   "cell_type": "code",
   "execution_count": 1,
   "metadata": {},
   "outputs": [],
   "source": [
    "# The LightSensor module would be imported here had it not been imported in the very beginning of the code.\n",
    "import matplotlib.pyplot as plt"
   ]
  },
  {
   "cell_type": "markdown",
   "metadata": {},
   "source": [
    "Below is a function to make plotting the information overtime easier."
   ]
  },
  {
   "cell_type": "code",
   "execution_count": 2,
   "metadata": {},
   "outputs": [],
   "source": [
    "def allPlot(fullvals, irvals, visvals, timevals):\n",
    "    \"\"\"Function which plots spectrum values overtime.\n",
    "    \n",
    "        fullvals (list): a list of full spectrum light intensity values.\n",
    "        irvals (list): a list of ir light intensity values.\n",
    "        visvals (list): a list of visible light intensity values.\n",
    "        timevals (list): a list of the time values.\n",
    "        \n",
    "        return (plot): a plot of all the spectrum values overtime.\n",
    "    \"\"\"\n",
    "\n",
    "    plt.plot(timevals, fullvals, timevals, irvals, timevals, visvals)\n",
    "    \n",
    "    plt.xlabel('Time')\n",
    "    plt.ylabel('Intensity')\n",
    "    plt.title('Spectrum Intensity Values')\n",
    "\n",
    "    plt.legend(['Full Spectrum', 'IR', 'Visible'], loc='upper left')\n",
    "    \n",
    "    plt.show()"
   ]
  },
  {
   "cell_type": "markdown",
   "metadata": {},
   "source": [
    "Create a sensor and decare the port in which it is connected."
   ]
  },
  {
   "cell_type": "code",
   "execution_count": 3,
   "metadata": {},
   "outputs": [],
   "source": [
    "timesensor = LightSensor()"
   ]
  },
  {
   "cell_type": "code",
   "execution_count": 4,
   "metadata": {},
   "outputs": [],
   "source": [
    "timesensor.declarePort('COM3')"
   ]
  },
  {
   "cell_type": "markdown",
   "metadata": {},
   "source": [
    "The background light values should then be collected if wanted. In this example there is no need to print or store the background data."
   ]
  },
  {
   "cell_type": "code",
   "execution_count": 5,
   "metadata": {},
   "outputs": [
    {
     "name": "stdout",
     "output_type": "stream",
     "text": [
      "Intensity values being collected...\n",
      "Intensity values collected successfully.\n"
     ]
    }
   ],
   "source": [
    "timesensor.setBackground(30)"
   ]
  },
  {
   "cell_type": "markdown",
   "metadata": {},
   "source": [
    "The intensity data for the light source being measured can then be calculated. This function automatically removes the background values from the collected intensity values and prints out the averages and errors."
   ]
  },
  {
   "cell_type": "code",
   "execution_count": 6,
   "metadata": {},
   "outputs": [
    {
     "name": "stdout",
     "output_type": "stream",
     "text": [
      "Intensity values being collected...\n",
      "Intensity values collected successfully.\n",
      "Average\n",
      "Full: 1.400000 ± 0.227346\n",
      "IR: 0.092308 ± 0.110070\n",
      "Visible: 1.307692 ± 0.204878\n"
     ]
    }
   ],
   "source": [
    "timesensor.dataValues(30)  "
   ]
  },
  {
   "cell_type": "markdown",
   "metadata": {},
   "source": [
    "We don't want just the average and error for this example, rather we want all the lists containing the raw data collected over time. Therefore, we can use the below function to get the most recent values collected and store them into variables to be used."
   ]
  },
  {
   "cell_type": "code",
   "execution_count": 7,
   "metadata": {},
   "outputs": [],
   "source": [
    "fullvals, irvals, visvals, timevals = timesensor.getRecent()"
   ]
  },
  {
   "cell_type": "markdown",
   "metadata": {},
   "source": [
    "We can then use these lists of values with the above plotting functions to get graphs of the intensities over time."
   ]
  },
  {
   "cell_type": "code",
   "execution_count": 8,
   "metadata": {},
   "outputs": [
    {
     "data": {
      "image/png": "[encoded data removed]",
      "text/plain": [
       "<matplotlib.figure.Figure at 0x25d67f9eeb8>"
      ]
     },
     "metadata": {},
     "output_type": "display_data"
    }
   ],
   "source": [
    "allPlot(fullvals, irvals, visvals, timevals)"
   ]
  },
  {
   "cell_type": "markdown",
   "metadata": {},
   "source": [
    "# Reading Averages and Exporting to Excel"
   ]
  },
  {
   "cell_type": "markdown",
   "metadata": {},
   "source": [
    "This is an example of collecting intensity data at certain positions, getting the averages with error, and exporting both the positions and the averages with error to excel. Once again, we begin by importing the LightSensor module."
   ]
  },
  {
   "cell_type": "code",
   "execution_count": 8,
   "metadata": {},
   "outputs": [],
   "source": [
    "# The LightSensor module would be imported here had it not been imported in the very beginning of the code."
   ]
  },
  {
   "cell_type": "markdown",
   "metadata": {},
   "source": [
    "Below is a function to easily export data to excel."
   ]
  },
  {
   "cell_type": "code",
   "execution_count": 2,
   "metadata": {},
   "outputs": [],
   "source": [
    "def csvform(positions, favg, iavg, vavg, ferr, ierr, verr):\n",
    "    filename = input('Name of File? ') # needs to be csv, ie. filename.csv\n",
    "    header_row_text = 'Positions, Full, FullError, IR, IRError, Visible, VisibleError'\n",
    "    comment_text = ''\n",
    "    \n",
    "    data = np.array([positions, favg, ferr, iavg, ierr, vavg, verr]).T\n",
    "    np.savetxt(filename, data, delimiter = ',', header = header_row_text, comments = comment_text)"
   ]
  },
  {
   "cell_type": "markdown",
   "metadata": {},
   "source": [
    "Create a light sensor object and declare what port it is connected to."
   ]
  },
  {
   "cell_type": "code",
   "execution_count": 3,
   "metadata": {},
   "outputs": [],
   "source": [
    "excelsensor = LightSensor()"
   ]
  },
  {
   "cell_type": "code",
   "execution_count": 4,
   "metadata": {},
   "outputs": [],
   "source": [
    "excelsensor.declarePort('COM3')"
   ]
  },
  {
   "cell_type": "markdown",
   "metadata": {},
   "source": [
    "Below are empty lists to store the positions, the averages and the respective error collected."
   ]
  },
  {
   "cell_type": "code",
   "execution_count": 11,
   "metadata": {},
   "outputs": [],
   "source": [
    "positions = []\n",
    "\n",
    "favg = []\n",
    "iavg = []\n",
    "vavg = []\n",
    "    \n",
    "ferr = []\n",
    "ierr = []\n",
    "verr = []"
   ]
  },
  {
   "cell_type": "markdown",
   "metadata": {},
   "source": [
    "Before collecting the intensities of the light source, collect the background lighing intensity."
   ]
  },
  {
   "cell_type": "code",
   "execution_count": 6,
   "metadata": {
    "scrolled": true
   },
   "outputs": [
    {
     "name": "stdout",
     "output_type": "stream",
     "text": [
      "Intensity values being collected...\n",
      "Intensity values collected successfully.\n"
     ]
    }
   ],
   "source": [
    "excelsensor.setBackground(30)"
   ]
  },
  {
   "cell_type": "markdown",
   "metadata": {},
   "source": [
    "Below is code that collects the data and stores it into the empty lists until told to stop."
   ]
  },
  {
   "cell_type": "code",
   "execution_count": null,
   "metadata": {},
   "outputs": [],
   "source": [
    "positionstr = input('Position? ') # For Atomic Spectrum Lab\n",
    "position = float(positionstr)\n",
    "positions.append(position)\n",
    "        \n",
    "excelsensor.dataValues(30)\n",
    "fullavg, iravg, visavg, fullerr, irerr, viserr = excelsensor.getAverage() \n",
    "        \n",
    "favg.append(fullavg)\n",
    "iavg.append(iravg)\n",
    "vavg.append(visavg)\n",
    "        \n",
    "ferr.append(fullerr)\n",
    "ierr.append(irerr)\n",
    "verr.append(viserr)"
   ]
  },
  {
   "cell_type": "markdown",
   "metadata": {},
   "source": [
    "Using the above defined function an excel file can be created using the data collected. It should be noted that the file should be a .csv file in order for it to be opened in excel."
   ]
  },
  {
   "cell_type": "code",
   "execution_count": null,
   "metadata": {},
   "outputs": [],
   "source": [
    "csvfile = csvform(positions, favg, iavg, vavg, ferr, ierr, verr)"
   ]
  }
 ],
 "metadata": {
  "kernelspec": {
   "display_name": "Python 3",
   "language": "python",
   "name": "python3"
  },
  "language_info": {
   "codemirror_mode": {
    "name": "ipython",
    "version": 3
   },
   "file_extension": ".py",
   "mimetype": "text/x-python",
   "name": "python",
   "nbconvert_exporter": "python",
   "pygments_lexer": "ipython3",
   "version": "3.6.4"
  }
 },
 "nbformat": 4,
 "nbformat_minor": 2
}
